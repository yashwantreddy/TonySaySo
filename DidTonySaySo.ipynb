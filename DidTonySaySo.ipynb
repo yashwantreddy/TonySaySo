{
 "cells": [
  {
   "cell_type": "code",
   "execution_count": 1,
   "metadata": {},
   "outputs": [],
   "source": [
    "import pandas as pd\n",
    "import numpy as np\n",
    "import matplotlib.pyplot as plt\n",
    "import seaborn as sns\n",
    "from joblib import dump, load\n",
    "\n",
    "from sklearn.pipeline import Pipeline\n",
    "\n",
    "from sklearn.model_selection import GridSearchCV\n",
    "from sklearn.model_selection import StratifiedKFold\n",
    "from sklearn.model_selection import cross_val_score\n",
    "from sklearn.model_selection import cross_val_predict\n",
    "from sklearn.model_selection import learning_curve\n",
    "\n",
    "from sklearn.feature_extraction.text import CountVectorizer\n",
    "from sklearn.feature_extraction.text import TfidfTransformer, TfidfVectorizer\n",
    "\n",
    "from sklearn.naive_bayes import MultinomialNB\n",
    "\n",
    "from sklearn import metrics\n",
    "\n",
    "import nltk\n",
    "from nltk.corpus import stopwords\n",
    "#from nltk.stem import SnowballStemmer\n",
    "\n",
    "from scipy import stats\n",
    "import statsmodels.api as sm\n",
    "import statsmodels.formula.api as smf\n",
    "\n",
    "pd.set_option('display.max_rows', None)\n",
    "pd.set_option('display.max_colwidth', None)\n",
    "\n",
    "RANDOM_SEED = 42\n",
    "\n",
    "# class StemCountVectorizer(CountVectorizer):\n",
    "#     def build_analyzer(self):\n",
    "#         analyzer = super(StemCountVectorizer, self).build_analyzer()\n",
    "        \n",
    "#         return lambda document: ([SnowballStemmer('english', ignore_stopwords=True).stem(word) for word in analyzer(document)])"
   ]
  },
  {
   "cell_type": "code",
   "execution_count": 2,
   "metadata": {},
   "outputs": [],
   "source": [
    "mcu = pd.read_pickle(\"mcu_v2.pkl\")"
   ]
  },
  {
   "cell_type": "code",
   "execution_count": 3,
   "metadata": {},
   "outputs": [
    {
     "data": {
      "text/html": [
       "<div>\n",
       "<style scoped>\n",
       "    .dataframe tbody tr th:only-of-type {\n",
       "        vertical-align: middle;\n",
       "    }\n",
       "\n",
       "    .dataframe tbody tr th {\n",
       "        vertical-align: top;\n",
       "    }\n",
       "\n",
       "    .dataframe thead th {\n",
       "        text-align: right;\n",
       "    }\n",
       "</style>\n",
       "<table border=\"1\" class=\"dataframe\">\n",
       "  <thead>\n",
       "    <tr style=\"text-align: right;\">\n",
       "      <th></th>\n",
       "      <th>character</th>\n",
       "      <th>line</th>\n",
       "      <th>movie</th>\n",
       "      <th>year</th>\n",
       "      <th>Tony</th>\n",
       "    </tr>\n",
       "  </thead>\n",
       "  <tbody>\n",
       "    <tr>\n",
       "      <th>0</th>\n",
       "      <td>TONY STARK</td>\n",
       "      <td>Oh, I get it.  You guys aren’t allowed to talk.  Is that it?  Are you not allowed to talk?</td>\n",
       "      <td>Iron Man</td>\n",
       "      <td>2008</td>\n",
       "      <td>1</td>\n",
       "    </tr>\n",
       "    <tr>\n",
       "      <th>1</th>\n",
       "      <td>IRON MAN JIMMY</td>\n",
       "      <td>No.  We’re allowed to talk.</td>\n",
       "      <td>Iron Man</td>\n",
       "      <td>2008</td>\n",
       "      <td>0</td>\n",
       "    </tr>\n",
       "    <tr>\n",
       "      <th>2</th>\n",
       "      <td>TONY STARK</td>\n",
       "      <td>Oh.  I see.  So it’s personal.</td>\n",
       "      <td>Iron Man</td>\n",
       "      <td>2008</td>\n",
       "      <td>1</td>\n",
       "    </tr>\n",
       "    <tr>\n",
       "      <th>3</th>\n",
       "      <td>RAMIREZ</td>\n",
       "      <td>I think they’re intimidated.</td>\n",
       "      <td>Iron Man</td>\n",
       "      <td>2008</td>\n",
       "      <td>0</td>\n",
       "    </tr>\n",
       "    <tr>\n",
       "      <th>4</th>\n",
       "      <td>TONY STARK</td>\n",
       "      <td>Good God, you’re a woman. I, honestly, I couldn’t have called that. I would apologize, but isn’t that what we’re going for here? I saw you as a soldier first.</td>\n",
       "      <td>Iron Man</td>\n",
       "      <td>2008</td>\n",
       "      <td>1</td>\n",
       "    </tr>\n",
       "  </tbody>\n",
       "</table>\n",
       "</div>"
      ],
      "text/plain": [
       "        character  \\\n",
       "0      TONY STARK   \n",
       "1  IRON MAN JIMMY   \n",
       "2      TONY STARK   \n",
       "3         RAMIREZ   \n",
       "4      TONY STARK   \n",
       "\n",
       "                                                                                                                                                              line  \\\n",
       "0                                                                       Oh, I get it.  You guys aren’t allowed to talk.  Is that it?  Are you not allowed to talk?   \n",
       "1                                                                                                                                      No.  We’re allowed to talk.   \n",
       "2                                                                                                                                   Oh.  I see.  So it’s personal.   \n",
       "3                                                                                                                                     I think they’re intimidated.   \n",
       "4  Good God, you’re a woman. I, honestly, I couldn’t have called that. I would apologize, but isn’t that what we’re going for here? I saw you as a soldier first.    \n",
       "\n",
       "      movie  year  Tony  \n",
       "0  Iron Man  2008     1  \n",
       "1  Iron Man  2008     0  \n",
       "2  Iron Man  2008     1  \n",
       "3  Iron Man  2008     0  \n",
       "4  Iron Man  2008     1  "
      ]
     },
     "execution_count": 3,
     "metadata": {},
     "output_type": "execute_result"
    }
   ],
   "source": [
    "mcu.head()"
   ]
  },
  {
   "cell_type": "code",
   "execution_count": 4,
   "metadata": {},
   "outputs": [],
   "source": [
    "y = mcu.Tony\n",
    "X = mcu[\"line\"].to_numpy().astype(str)"
   ]
  },
  {
   "cell_type": "code",
   "execution_count": 5,
   "metadata": {},
   "outputs": [],
   "source": [
    "cross_validator = StratifiedKFold(n_splits=10, random_state=RANDOM_SEED, shuffle=True)\n",
    "score_method = \"f1\"\n",
    "\n",
    "#stem_count_vectorizer = StemCountVectorizer(binary=False)\n",
    "tfidf = TfidfVectorizer()\n",
    "nb_classifier = MultinomialNB(alpha=0.01)\n",
    "\n",
    "#count_params = {'vect__stop_words': [None, stopwords.words('english')],'vect__ngram_range': [(1,1), (1,2)]}\n",
    "\n",
    "tfidf_params = {'tfidf__use_idf': [True, False]}\n",
    "\n",
    "nb_params = {'clf__fit_prior': [True, False]}\n",
    "\n",
    "pipe = Pipeline([('tfidf', tfidf),\n",
    "                  ('clf', nb_classifier)])\n",
    "\n",
    "parameters = {**tfidf_params, **nb_params}\n",
    "\n",
    "model = GridSearchCV(pipe, parameters, cv=cross_validator, scoring=score_method, n_jobs=-1, verbose=6)"
   ]
  },
  {
   "cell_type": "code",
   "execution_count": 6,
   "metadata": {},
   "outputs": [
    {
     "name": "stderr",
     "output_type": "stream",
     "text": [
      "[Parallel(n_jobs=-1)]: Using backend LokyBackend with 8 concurrent workers.\n",
      "[Parallel(n_jobs=-1)]: Done   3 out of  10 | elapsed:   31.2s remaining:  1.2min\n",
      "[Parallel(n_jobs=-1)]: Done   5 out of  10 | elapsed:   31.4s remaining:   31.4s\n",
      "[Parallel(n_jobs=-1)]: Done   7 out of  10 | elapsed:   31.5s remaining:   13.4s\n",
      "[Parallel(n_jobs=-1)]: Done  10 out of  10 | elapsed:   44.3s finished\n"
     ]
    },
    {
     "data": {
      "text/html": [
       "<div>\n",
       "<style scoped>\n",
       "    .dataframe tbody tr th:only-of-type {\n",
       "        vertical-align: middle;\n",
       "    }\n",
       "\n",
       "    .dataframe tbody tr th {\n",
       "        vertical-align: top;\n",
       "    }\n",
       "\n",
       "    .dataframe thead th {\n",
       "        text-align: right;\n",
       "    }\n",
       "</style>\n",
       "<table border=\"1\" class=\"dataframe\">\n",
       "  <thead>\n",
       "    <tr style=\"text-align: right;\">\n",
       "      <th></th>\n",
       "      <th>model 1</th>\n",
       "    </tr>\n",
       "    <tr>\n",
       "      <th>fold</th>\n",
       "      <th></th>\n",
       "    </tr>\n",
       "  </thead>\n",
       "  <tbody>\n",
       "    <tr>\n",
       "      <th>0</th>\n",
       "      <td>0.263911</td>\n",
       "    </tr>\n",
       "    <tr>\n",
       "      <th>1</th>\n",
       "      <td>0.283247</td>\n",
       "    </tr>\n",
       "    <tr>\n",
       "      <th>2</th>\n",
       "      <td>0.305958</td>\n",
       "    </tr>\n",
       "    <tr>\n",
       "      <th>3</th>\n",
       "      <td>0.307692</td>\n",
       "    </tr>\n",
       "    <tr>\n",
       "      <th>4</th>\n",
       "      <td>0.243822</td>\n",
       "    </tr>\n",
       "    <tr>\n",
       "      <th>5</th>\n",
       "      <td>0.295798</td>\n",
       "    </tr>\n",
       "    <tr>\n",
       "      <th>6</th>\n",
       "      <td>0.247557</td>\n",
       "    </tr>\n",
       "    <tr>\n",
       "      <th>7</th>\n",
       "      <td>0.268212</td>\n",
       "    </tr>\n",
       "    <tr>\n",
       "      <th>8</th>\n",
       "      <td>0.318182</td>\n",
       "    </tr>\n",
       "    <tr>\n",
       "      <th>9</th>\n",
       "      <td>0.272425</td>\n",
       "    </tr>\n",
       "    <tr>\n",
       "      <th>mean</th>\n",
       "      <td>0.280680</td>\n",
       "    </tr>\n",
       "    <tr>\n",
       "      <th>std</th>\n",
       "      <td>0.024435</td>\n",
       "    </tr>\n",
       "    <tr>\n",
       "      <th>max</th>\n",
       "      <td>0.318182</td>\n",
       "    </tr>\n",
       "  </tbody>\n",
       "</table>\n",
       "</div>"
      ],
      "text/plain": [
       "       model 1\n",
       "fold          \n",
       "0     0.263911\n",
       "1     0.283247\n",
       "2     0.305958\n",
       "3     0.307692\n",
       "4     0.243822\n",
       "5     0.295798\n",
       "6     0.247557\n",
       "7     0.268212\n",
       "8     0.318182\n",
       "9     0.272425\n",
       "mean  0.280680\n",
       "std   0.024435\n",
       "max   0.318182"
      ]
     },
     "execution_count": 6,
     "metadata": {},
     "output_type": "execute_result"
    }
   ],
   "source": [
    "models = {\"model 1\": model}\n",
    "\n",
    "cv_score_table = pd.DataFrame()\n",
    "\n",
    "for name, model in models.items():\n",
    "    results = cross_val_score(model, X, y, cv=cross_validator, scoring=score_method, n_jobs=-1, verbose=6)\n",
    "    cv_score_table.insert(len(cv_score_table.columns), name, results, True)\n",
    "\n",
    "cv_score_table.index.name = \"fold\"\n",
    "cv_score_table.loc[\"mean\"] = cv_score_table.mean()\n",
    "cv_score_table.loc[\"std\"] = cv_score_table.std()\n",
    "cv_score_table.loc[\"max\"] = cv_score_table.max()\n",
    "\n",
    "cv_score_table"
   ]
  },
  {
   "cell_type": "code",
   "execution_count": 7,
   "metadata": {},
   "outputs": [
    {
     "name": "stderr",
     "output_type": "stream",
     "text": [
      "[Parallel(n_jobs=-1)]: Using backend LokyBackend with 8 concurrent workers.\n",
      "[Parallel(n_jobs=-1)]: Done   3 out of  10 | elapsed:   25.9s remaining:  1.0min\n",
      "[Parallel(n_jobs=-1)]: Done   5 out of  10 | elapsed:   26.0s remaining:   26.0s\n",
      "[Parallel(n_jobs=-1)]: Done   7 out of  10 | elapsed:   26.4s remaining:   11.3s\n",
      "[Parallel(n_jobs=-1)]: Done  10 out of  10 | elapsed:   39.1s finished\n"
     ]
    },
    {
     "name": "stdout",
     "output_type": "stream",
     "text": [
      "Balanced Accuracy: 0.6152209557529852\n",
      "Balanced Accuracy: 0.6152209557529852\n"
     ]
    },
    {
     "data": {
      "image/png": "[encoded data removed]",
      "text/plain": [
       "<Figure size 432x288 with 2 Axes>"
      ]
     },
     "metadata": {},
     "output_type": "display_data"
    }
   ],
   "source": [
    "yhat = cross_val_predict(model, X, y, cv=cross_validator, n_jobs=-1, verbose=6)\n",
    "\n",
    "main_characters = mcu['Tony'].value_counts().index.to_numpy()\n",
    "\n",
    "conf_matrix = pd.DataFrame(metrics.confusion_matrix(y, yhat, labels=main_characters))\n",
    "normalized_conf_matrix = conf_matrix.div(conf_matrix.sum(axis=1), axis=0)\n",
    "normalized_conf_matrix.columns = pd.Series(main_characters, name=\"Predicted Character\")\n",
    "normalized_conf_matrix.index = pd.Series(main_characters, name=\"True Character\")\n",
    "\n",
    "plt.title(\"Model 13 Confusion Matrix\")\n",
    "sns.heatmap(normalized_conf_matrix, annot=True, fmt='.2f', cmap=plt.cm.Reds)\n",
    "\n",
    "# Should be the same\n",
    "print(\"Balanced Accuracy:\", metrics.balanced_accuracy_score(y,yhat))\n",
    "print(\"Balanced Accuracy:\", np.mean(np.diagonal(normalized_conf_matrix)))"
   ]
  },
  {
   "cell_type": "code",
   "execution_count": 8,
   "metadata": {},
   "outputs": [],
   "source": [
    "def plot_learning_curve(estimator, title, X, y, axes=None, cv=None,\n",
    "                        n_jobs=-1, train_sizes=np.linspace(.1, 1.0, 5)):\n",
    "    \n",
    "    plt.title(title)\n",
    "    plt.xlabel(\"Training examples\")\n",
    "    plt.ylabel(\"Score\")\n",
    "\n",
    "    train_sizes, train_scores, test_scores = \\\n",
    "        learning_curve(estimator, X, y, cv=cv, n_jobs=n_jobs,\n",
    "                       train_sizes=train_sizes, verbose=6)\n",
    "    train_scores_mean = np.mean(train_scores, axis=1)\n",
    "    train_scores_std = np.std(train_scores, axis=1)\n",
    "    test_scores_mean = np.mean(test_scores, axis=1)\n",
    "    test_scores_std = np.std(test_scores, axis=1)\n",
    "\n",
    "    # Plot learning curve\n",
    "    plt.grid()\n",
    "    plt.fill_between(train_sizes, train_scores_mean - train_scores_std,\n",
    "                         train_scores_mean + train_scores_std, alpha=0.1,\n",
    "                         color=\"r\")\n",
    "    plt.fill_between(train_sizes, test_scores_mean - test_scores_std,\n",
    "                         test_scores_mean + test_scores_std, alpha=0.1,\n",
    "                         color=\"g\")\n",
    "    plt.plot(train_sizes, train_scores_mean, 'o-', color=\"r\",\n",
    "                 label=\"Training score\")\n",
    "    plt.plot(train_sizes, test_scores_mean, 'o-', color=\"g\",\n",
    "                 label=\"Cross-validation score\")\n",
    "    plt.legend(loc=\"best\")\n",
    "\n",
    "    return"
   ]
  },
  {
   "cell_type": "code",
   "execution_count": 9,
   "metadata": {},
   "outputs": [
    {
     "name": "stdout",
     "output_type": "stream",
     "text": [
      "[learning_curve] Training set sizes: [ 1415  4599  7783 10967 14151]\n"
     ]
    },
    {
     "name": "stderr",
     "output_type": "stream",
     "text": [
      "[Parallel(n_jobs=-1)]: Using backend LokyBackend with 8 concurrent workers.\n",
      "[Parallel(n_jobs=-1)]: Done   6 out of  50 | elapsed:   15.5s remaining:  1.9min\n",
      "[Parallel(n_jobs=-1)]: Done  15 out of  50 | elapsed:   32.8s remaining:  1.3min\n",
      "[Parallel(n_jobs=-1)]: Done  24 out of  50 | elapsed:   50.1s remaining:   54.3s\n",
      "[Parallel(n_jobs=-1)]: Done  33 out of  50 | elapsed:  1.1min remaining:   34.9s\n",
      "[Parallel(n_jobs=-1)]: Done  42 out of  50 | elapsed:  1.4min remaining:   16.2s\n",
      "[Parallel(n_jobs=-1)]: Done  50 out of  50 | elapsed:  1.7min finished\n"
     ]
    },
    {
     "data": {
      "image/png": "[encoded data removed]",
      "text/plain": [
       "<Figure size 432x288 with 1 Axes>"
      ]
     },
     "metadata": {},
     "output_type": "display_data"
    }
   ],
   "source": [
    "title = \"Learning Curves (Naive Bayes with TFIDF)\"\n",
    "\n",
    "plot_learning_curve(model, title, X, y, cv=cross_validator)"
   ]
  },
  {
   "cell_type": "code",
   "execution_count": 10,
   "metadata": {},
   "outputs": [
    {
     "name": "stdout",
     "output_type": "stream",
     "text": [
      "Fitting 10 folds for each of 4 candidates, totalling 40 fits\n"
     ]
    },
    {
     "name": "stderr",
     "output_type": "stream",
     "text": [
      "[Parallel(n_jobs=-1)]: Using backend LokyBackend with 8 concurrent workers.\n",
      "[Parallel(n_jobs=-1)]: Done  32 out of  40 | elapsed:    3.2s remaining:    0.7s\n",
      "[Parallel(n_jobs=-1)]: Done  40 out of  40 | elapsed:    3.8s finished\n"
     ]
    },
    {
     "data": {
      "text/plain": [
       "Pipeline(steps=[('tfidf', TfidfVectorizer(use_idf=False)),\n",
       "                ('clf', MultinomialNB(alpha=0.01, fit_prior=False))])"
      ]
     },
     "execution_count": 10,
     "metadata": {},
     "output_type": "execute_result"
    }
   ],
   "source": [
    "model.fit(X,y)\n",
    "prod_model = model.best_estimator_\n",
    "dump(prod_model, './final_models/main_model.joblib')\n",
    "\n",
    "prod_model"
   ]
  },
  {
   "cell_type": "code",
   "execution_count": 11,
   "metadata": {},
   "outputs": [
    {
     "data": {
      "text/plain": [
       "{'clf__fit_prior': False, 'tfidf__use_idf': False}"
      ]
     },
     "execution_count": 11,
     "metadata": {},
     "output_type": "execute_result"
    }
   ],
   "source": [
    "model.best_params_"
   ]
  },
  {
   "cell_type": "code",
   "execution_count": 17,
   "metadata": {},
   "outputs": [
    {
     "data": {
      "text/plain": [
       "{'tfidf': TfidfVectorizer(use_idf=False),\n",
       " 'clf': MultinomialNB(alpha=0.01, fit_prior=False)}"
      ]
     },
     "execution_count": 17,
     "metadata": {},
     "output_type": "execute_result"
    }
   ],
   "source": [
    "prod_model.named_steps"
   ]
  },
  {
   "cell_type": "code",
   "execution_count": null,
   "metadata": {},
   "outputs": [],
   "source": []
  }
 ],
 "metadata": {
  "kernelspec": {
   "display_name": "Python 3",
   "language": "python",
   "name": "python3"
  },
  "language_info": {
   "codemirror_mode": {
    "name": "ipython",
    "version": 3
   },
   "file_extension": ".py",
   "mimetype": "text/x-python",
   "name": "python",
   "nbconvert_exporter": "python",
   "pygments_lexer": "ipython3",
   "version": "3.6.5"
  }
 },
 "nbformat": 4,
 "nbformat_minor": 2
}
